{
 "cells": [
  {
   "cell_type": "code",
   "execution_count": null,
   "id": "3be90d08-feb9-4022-aadc-2b3fd958ee5b",
   "metadata": {
    "execution": {
     "iopub.execute_input": "2025-01-10T06:35:19.154043Z",
     "iopub.status.busy": "2025-01-10T06:35:19.150962Z",
     "iopub.status.idle": "2025-01-10T06:35:19.226296Z",
     "shell.execute_reply": "2025-01-10T06:35:19.223869Z"
    },
    "tags": [],
    "vscode": {
     "languageId": "r"
    }
   },
   "outputs": [],
   "source": [
    "suppressMessages(library(tidyr))\n",
    "suppressMessages(library(dplyr))\n",
    "suppressMessages(library(pheatmap))\n",
    "suppressMessages(library(ggplot2))\n",
    "suppressMessages(library(patchwork))\n",
    "suppressMessages(library(ggtree))\n",
    "suppressMessages(library(hash))\n",
    "suppressMessages(library(RColorBrewer))\n",
    "suppressMessages(library(reshape2))\n",
    "suppressMessages(library(ggalluvial))\n",
    "suppressMessages(library(grid))\n",
    "suppressMessages(library(ggrepel))\n",
    "suppressMessages(library(ggdark))\n",
    "suppressMessages(library(tidyverse))\n",
    "suppressMessages(library(ggrastr))\n",
    "suppressMessages(library(ggpubr))\n",
    "suppressMessages(library(readxl))\n",
    "suppressMessages(library(ggsci))\n",
    "suppressMessages(library(ComplexHeatmap))\n",
    "suppressMessages(library(circlize))\n",
    "suppressMessages(library(aplot))\n",
    "suppressMessages(library(Seurat))\n",
    "suppressMessages(library(gridExtra))"
   ]
  },
  {
   "cell_type": "markdown",
   "id": "133313d1-fba8-4405-a8da-6b0e848e1b71",
   "metadata": {},
   "source": [
    "Figure 2A "
   ]
  },
  {
   "cell_type": "code",
   "execution_count": 80,
   "id": "13409c43-adf1-49bf-8c60-616e6f0004b1",
   "metadata": {
    "execution": {
     "iopub.execute_input": "2025-01-09T08:32:33.502718Z",
     "iopub.status.busy": "2025-01-09T08:32:33.501138Z",
     "iopub.status.idle": "2025-01-09T08:32:33.523296Z",
     "shell.execute_reply": "2025-01-09T08:32:33.521752Z"
    },
    "tags": [],
    "vscode": {
     "languageId": "r"
    }
   },
   "outputs": [
    {
     "data": {
      "text/html": [
       "<span style=white-space:pre-wrap>'Thu Jan  9 16:32:33 2025'</span>"
      ],
      "text/latex": [
       "'Thu Jan  9 16:32:33 2025'"
      ],
      "text/markdown": [
       "<span style=white-space:pre-wrap>'Thu Jan  9 16:32:33 2025'</span>"
      ],
      "text/plain": [
       "[1] \"Thu Jan  9 16:32:33 2025\""
      ]
     },
     "metadata": {},
     "output_type": "display_data"
    }
   ],
   "source": [
    "GetGroupCenter <- function(df_umap, group){\n",
    "  GroupCenter <- df_umap %>% group_by(eval(str2lang(group))) %>% summarise(UMAP_1 = median(UMAP_1),UMAP_2 = median(UMAP_2)) %>% as.data.frame()\n",
    "  colnames(GroupCenter)[1] <- \"GroupCenter\"\n",
    "  return(GroupCenter)\n",
    "}\n",
    "\n",
    "UmapPlot <- function(df, cluster, df_center, labelfontsize, axistitlefontsize, pointsize, pointalpha,\n",
    "                    xmin,xmax,ymin,ymax,mycolor,axistitlefont,axislinesize,labelfont,\n",
    "                    xaxislengthfold,yaxislengthfold){\n",
    "  p <- ggplot() + \n",
    "    geom_point(df, mapping=aes(x = UMAP_1, y = UMAP_2, color = eval(str2lang(cluster))), size = pointsize, \n",
    "               alpha = pointalpha) +\n",
    "    dark_theme_void()+\n",
    "    scale_x_continuous(limits = c(xmin-2, xmax))+\n",
    "    scale_y_continuous(limits = c(ymin-2, ymax))+\n",
    "    theme(axis.text = element_blank())+\n",
    "    theme(axis.ticks = element_blank())+\n",
    "    theme(panel.border = element_blank())+\n",
    "    theme(axis.title = element_blank())+\n",
    "    scale_color_manual(values=mycolor)+\n",
    "    geom_segment(aes(x=xmin, y=ymin, xend=xmin+abs(xmin)*xaxislengthfold, yend=ymin), \n",
    "                 arrow = arrow(length=unit(0.2, \"cm\")), color=\"white\", linewidth=axislinesize)+\n",
    "    geom_segment(aes(x=xmin, y=ymin, xend=xmin, yend=ymin+abs(ymin)*yaxislengthfold), \n",
    "                 arrow = arrow(length=unit(0.2, \"cm\")), color=\"white\", linewidth=axislinesize)+\n",
    "    annotate(\"text\", x = xmin + 1.5, y = ymin - 1, label = \"UMAP_1\",\n",
    "             color=\"white\",size = axistitlefontsize, fontface=\"bold\", family = axistitlefont) +\n",
    "    annotate(\"text\", x = xmin - 1, y = ymin + 1.5, label = \"UMAP_2\",\n",
    "             color=\"white\",size = axistitlefontsize, fontface=\"bold\" ,angle=90, family = axistitlefont) +\n",
    "    geom_text(data = df_center[which(df_center$GroupCenter %in% unique(df[,cluster])),], mapping=aes(x = UMAP_1, y = UMAP_2, label=GroupCenter), \n",
    "              fontface=\"bold\",color = \"white\",size = labelfontsize, family = labelfont)+\n",
    "    theme(legend.position = \"none\")\n",
    "  return(p)\n",
    "}\n",
    "\n",
    "MultiUmaplots <- function(df,group){\n",
    "  umap_groupname_list <- NULL\n",
    "  for (i in seq_len(nlevels(df[,group]))){\n",
    "    groupnames <- levels(df[,group])\n",
    "    df_tmp <- df[which(df[,group] == groupnames[i]),]\n",
    "    umap_groupname_list[[i]] <-  UmapPlot(df_tmp, umapCluster, ct_center, labelfontsize, axistitlefontsize, pointsize, pointalpha)\n",
    "  }\n",
    "  return(umap_groupname_list)\n",
    "}\n",
    "date()"
   ]
  },
  {
   "cell_type": "code",
   "execution_count": 15,
   "id": "6be25381-3dda-4e78-a291-32c6338dfeae",
   "metadata": {
    "execution": {
     "iopub.execute_input": "2025-01-09T13:07:23.231068Z",
     "iopub.status.busy": "2025-01-09T13:07:23.229637Z",
     "iopub.status.idle": "2025-01-09T13:07:23.243641Z",
     "shell.execute_reply": "2025-01-09T13:07:23.242076Z"
    },
    "tags": [],
    "vscode": {
     "languageId": "r"
    }
   },
   "outputs": [],
   "source": [
    "# umapCluster \n",
    "# \n",
    "RunUmapPlot <- function(obj,FilterCluster = NULL,umapCluster,ClusterColour = NULL,\n",
    "                       specificgroup = NULL,umapGroup = NULL,\n",
    "                       pointsize = 0.1,pointalpha = 0.5,\n",
    "                       labelfontsize = 5,axistitlefontsize = 5,\n",
    "                       axistitlefont = \"sans\",axislinesize = 1,\n",
    "                       labelfont = \"sans\",plot_width = 10,plot_height = 8,\n",
    "                        xaxislengthfold = 1,yaxislengthfold= 1,cellcycle_annotation = NULL,\n",
    "                        saveannotation = TRUE,Legend = TRUE,legendnumsize = 3,\n",
    "                       legendnumfont = \"sans\",legendlabelfontsize = 5,\n",
    "                        legendlabelfont = \"sans\",legendwidth = 6,\n",
    "                        legendheight = 5\n",
    "                       ){\n",
    "    df_umap_ct = obj@reductions$umap@cell.embeddings %>%\n",
    "      as.data.frame() %>% \n",
    "      cbind(Cluster = obj@meta.data$clusters) %>%\n",
    "      cbind(Group = obj@meta.data$mice) \n",
    "    if (is.null(obj@meta.data$tissue2)){\n",
    "      df_umap_ct$Tissue <- obj@meta.data$tissue\n",
    "    }else{\n",
    "      df_umap_ct$Tissue <- obj@meta.data$tissue2\n",
    "    }\n",
    "    if (!is.null(obj@meta.data$platform)){\n",
    "      df_umap_ct$Platform <- obj@meta.data$platform\n",
    "      df_umap_ct$Platform <- as.factor(df_umap_ct$Platform)\n",
    "    }\n",
    "\n",
    "    df_umap_ct$Cluster <- as.factor(df_umap_ct$Cluster)\n",
    "    df_umap_ct$Cluster <- factor(df_umap_ct$Cluster, levels=sort(as.numeric(levels(df_umap_ct$Cluster))))\n",
    "    df_umap_ct$Group <- as.factor(df_umap_ct$Group)\n",
    "    df_umap_ct$Tissue <- as.factor(df_umap_ct$Tissue)\n",
    "\n",
    "    if (!is.null(FilterCluster)){\n",
    "      if (filtercluster_var == umapCluster){\n",
    "        df_umap_ct <- df_umap_ct[which(!df_umap_ct[,umapCluster] %in% FilterCluster),]\n",
    "      }else{\n",
    "        df_umap_ct <- df_umap_ct[which(!df_umap_ct[,filtercluster_var] %in% FilterCluster),]\n",
    "      }\n",
    "    }\n",
    "\n",
    "    xmin <- min(df_umap_ct$UMAP_1)-2\n",
    "    xmax <- max(df_umap_ct$UMAP_1)+2\n",
    "    ymin <- min(df_umap_ct$UMAP_2)-2\n",
    "    ymax <- max(df_umap_ct$UMAP_2)+2\n",
    "    \n",
    "    # lwm \n",
    "    print(head(df_umap_ct))\n",
    "\n",
    "    ct_center <- GetGroupCenter(df_umap_ct, umapCluster)\n",
    "    \n",
    "\n",
    "    nCluster = length(unique(df_umap_ct[,umapCluster]))\n",
    "\n",
    "    if (is.null(ClusterColour)){\n",
    "      mycolor = colorRampPalette(brewer.pal(9, \"Set1\"))(nCluster)\n",
    "      names(mycolor) <- levels(df_umap_ct[,umapCluster])[sort(unique(df_umap_ct[,umapCluster]))]\n",
    "    }else{\n",
    "      if (is.null(names(ClusterColour))){\n",
    "        mycolor <- ClusterColour\n",
    "        names(mycolor) <- levels(df_umap_ct[,umapCluster])[sort(unique(df_umap_ct[,umapCluster]))]\n",
    "      }else{\n",
    "        mycolor <- ClusterColour\n",
    "      }\n",
    "    }\n",
    "\n",
    "\n",
    "    if (is.null(specificgroup)){\n",
    "      if (is.null(umapGroup)){\n",
    "        umap_overall <- UmapPlot(df_umap_ct, umapCluster, ct_center, labelfontsize, axistitlefontsize,\n",
    "                                 pointsize, pointalpha,xmin,xmax,ymin,ymax,mycolor,axistitlefont,axislinesize,\n",
    "                                 labelfont,xaxislengthfold,yaxislengthfold)\n",
    "        ggsave(paste0(\"umap_overall_\",umapCluster,\".pdf\"),umap_overall,device='pdf',width = plot_width, \n",
    "               height = plot_height) # ok # \n",
    "      }else{\n",
    "        umap_groupname_list <- MultiUmaplots(df_umap_ct, umapGroup)\n",
    "        umap_group <- ggarrange(plotlist=umap_groupname_list,\n",
    "                            labels = levels(df_umap_ct[,umapGroup]),\n",
    "                            font.label = list(size = plottitlefontsize, color = \"white\", face = \"bold\",\n",
    "                                              family = plottitlefont),\n",
    "                            ncol = ncol_plot, nrow = nrow_plot)\n",
    "        ggsave(paste0(\"umap_\", umapCluster, \"_\", umapGroup, \".pdf\"), umap_group,device='pdf',\n",
    "               width = plot_width, height = plot_height)\n",
    "      }\n",
    "    }else{\n",
    "      df_umap_ct <- df_umap_ct[which(df_umap_ct[,specificgroup[1]] == specificgroup[2]),]\n",
    "      if (is.null(umapGroup)){\n",
    "        umap_overall <- UmapPlot(df_umap_ct, umapCluster, ct_center, labelfontsize, axistitlefontsize, \n",
    "                                 pointsize, pointalpha)\n",
    "        ggsave(paste0(specificgroup[2],\"_umap_overall_\",umapCluster,\".pdf\"),umap_overall,device='pdf',\n",
    "               width = plot_width, height = plot_height)\n",
    "      }else{\n",
    "        umap_groupname_list <- MultiUmaplots(df_umap_ct, umapGroup)\n",
    "        umap_group <- ggarrange(plotlist=umap_groupname_list,\n",
    "                            labels = levels(df_umap_ct[,umapGroup]),\n",
    "                            font.label = list(size = plottitlefontsize, color = \"white\", face = \"bold\", family = plottitlefont),\n",
    "                            ncol = ncol_plot, nrow = nrow_plot)\n",
    "        ggsave(paste0(specificgroup[2],\"_umap_\", umapCluster, \"_\", umapGroup, \".pdf\"),umap_group,device='pdf',width = plot_width, height = plot_height)\n",
    "      }\n",
    "    }\n",
    "\n",
    "    if (is.null(cellcycle_annotation)){\n",
    "      ct_anno <- unique(data.frame(Cluster=obj@meta.data$cluster, ClusterName=obj@meta.data$celltypes))\n",
    "      ct_anno$Cluster <- factor(ct_anno$Cluster, levels=sort(as.numeric(levels(ct_anno$Cluster))))\n",
    "      cellcycle_annotation <- ct_anno[order(ct_anno$Cluster, decreasing = F),]\n",
    "      if (!is.null(FilterCluster)){\n",
    "        cellcycle_annotation <- cellcycle_annotation[which(!cellcycle_annotation$Cluster %in% FilterCluster),]\n",
    "      }\n",
    "  if (saveannotation){\n",
    "    write.table(cellcycle_annotation, \"cellcycle_annotation.txt\", sep = \"\\t\", quote = F, row.names = F)\n",
    "  }\n",
    "    }else{\n",
    "      cellcycle_annotation <- read.table(cellcycle_annotation, sep=\"\\t\", header = T)\n",
    "      cellcycle_annotation$Cluster <- as.factor(cellcycle_annotation$Cluster)\n",
    "      cellcycle_annotation$Cluster <- factor(cellcycle_annotation$Cluster, levels=sort(as.numeric(levels(cellcycle_annotation$Cluster))))\n",
    "      cellcycle_annotation <- cellcycle_annotation[order(cellcycle_annotation$Cluster),]\n",
    "    }\n",
    "\n",
    "    if (Legend){\n",
    "      if (!is.null(FilterCluster)){\n",
    "        cellcycle_annotation <- cellcycle_annotation[which(!cellcycle_annotation$Cluster %in% FilterCluster),]\n",
    "      }\n",
    "  \n",
    "      xend <- ceiling(nCluster/15)\n",
    "      xeach <- ceiling(nCluster/xend)\n",
    "      xlist <- sort(rep(c(1:xend), each=xeach, length.out = nCluster))\n",
    "      df_xlist <- table(xlist) %>% as.data.frame()\n",
    "      ylist <- rep(c(max(df_xlist$Freq):1),nrow(df_xlist), length.out=nCluster)\n",
    "  \n",
    "      df_legend <- cellcycle_annotation\n",
    "      df_legend$x <- xlist\n",
    "      df_legend$y <- ylist\n",
    "  \n",
    "      p_lgd <- ggplot(df_legend, aes(x=x, y=y))+\n",
    "        geom_point(alpha=1, size=6,aes(colour=as.factor(Cluster)))+\n",
    "        labs(x='',y='',title=\"\")+\n",
    "        geom_text(aes(x=x, y=y,label=Cluster), fontface=\"bold\",color = \"white\",size = legendnumsize,\n",
    "                  family = legendnumfont)+\n",
    "        geom_text(aes(x=x+xend*0.03, y=y,label=ClusterName), fontface=\"bold\",color = \"white\",\n",
    "                  size = legendlabelfontsize, family = legendlabelfont, hjust = 0)+\n",
    "        dark_theme_void()+\n",
    "        scale_x_continuous(limits = c(1, xend+1))+\n",
    "        # scale_y_continuous(limits = c(ymin-2, ymax))+\n",
    "        theme(axis.text = element_blank())+\n",
    "        theme(axis.ticks = element_blank())+\n",
    "        theme(panel.border = element_blank())+\n",
    "        theme(axis.title = element_blank())+\n",
    "        scale_color_manual(values=mycolor)+\n",
    "        theme(legend.position = \"none\")\n",
    "      ggsave(\"umap_legend.pdf\",p_lgd,device='pdf',width = legendwidth, height = legendheight) \n",
    "    }\n",
    "}"
   ]
  },
  {
   "cell_type": "code",
   "execution_count": null,
   "id": "dd7b52b0-1268-4637-b0cd-ce39a8486902",
   "metadata": {
    "execution": {
     "iopub.execute_input": "2025-01-10T07:06:52.620572Z",
     "iopub.status.busy": "2025-01-10T07:06:52.619213Z"
    },
    "tags": [],
    "vscode": {
     "languageId": "r"
    }
   },
   "outputs": [],
   "source": [
    "bcells <- readRDS(\"immune_bcells_final_annotation.rds\")"
   ]
  },
  {
   "cell_type": "code",
   "execution_count": 111,
   "id": "cddaf299-bffd-4060-b1b8-389bb1ba515a",
   "metadata": {
    "execution": {
     "iopub.execute_input": "2025-01-09T09:10:40.185437Z",
     "iopub.status.busy": "2025-01-09T09:10:40.183491Z",
     "iopub.status.idle": "2025-01-09T09:10:42.423298Z",
     "shell.execute_reply": "2025-01-09T09:10:42.421750Z"
    },
    "tags": [],
    "vscode": {
     "languageId": "r"
    }
   },
   "outputs": [
    {
     "name": "stdout",
     "output_type": "stream",
     "text": [
      "                              UMAP_1    UMAP_2 Cluster Group Tissue Platform\n",
      "blood_AAACCCAGTTAGCGGA-1_1 -2.102567  7.086417       2    GF  blood      10X\n",
      "blood_AAACGAATCGTGGGTC-1_1 -1.583405  4.467439       3    GF  blood      10X\n",
      "blood_AAACGCTTCACGGTCG-1_1 -1.883233  4.370493       3    GF  blood      10X\n",
      "blood_AAACGCTTCCACATAG-1_1 -3.296586 -3.357111       9    GF  blood      10X\n",
      "blood_AAACGCTTCCTCTCGA-1_1 -6.549405 -3.307151      11    GF  blood      10X\n",
      "blood_AAAGGGCAGGTTCTAC-1_1 -2.214896  4.361221       3    GF  blood      10X\n",
      "[1] \"abc\"\n",
      "[1] \"haha\"\n"
     ]
    }
   ],
   "source": [
    "RunUmapPlot(bcells,umapCluster = \"Cluster\")"
   ]
  },
  {
   "cell_type": "markdown",
   "id": "cfeb93dc-a4d8-4e29-80ff-ca46e529a471",
   "metadata": {},
   "source": [
    "Figure 2B"
   ]
  },
  {
   "cell_type": "code",
   "execution_count": 36,
   "id": "0b29ea19-fd97-4342-9f41-ffbe9399d64d",
   "metadata": {
    "execution": {
     "iopub.execute_input": "2025-01-09T13:15:13.955957Z",
     "iopub.status.busy": "2025-01-09T13:15:13.954572Z",
     "iopub.status.idle": "2025-01-09T13:15:13.966832Z",
     "shell.execute_reply": "2025-01-09T13:15:13.965739Z"
    },
    "tags": [],
    "vscode": {
     "languageId": "r"
    }
   },
   "outputs": [],
   "source": [
    "CellCyclePlot <- function(df, groupname,labelfontsize,labelfont,plottitlefontsize,plottitlefont,mycolor2){\n",
    "  df$Overall <- apply(df,1,sum)\n",
    "  \n",
    "  SumAll <- sum(df$Overall)\n",
    "  df$gap <- SumAll*0.01\n",
    "  df$Overall <- NULL\n",
    "  df <- rownames_to_column(df, var = \"Cluster\")\n",
    "  df_long <- reshape2::melt(df, id.var=\"Cluster\", variable.name=\"CellCycle\", value.name = \"Value\")\n",
    "  \n",
    "  df_long$Cluster <- as.factor(df_long$Cluster)\n",
    "  df_long$Cluster <- factor(df_long$Cluster, levels=sort(as.numeric(levels(df_long$Cluster))))\n",
    "  df_long$CellCycle <- factor(df_long$CellCycle, levels=c(\"G1\",\"G2M\",\"S\",\"gap\"))\n",
    "  \n",
    "  df_long <- df_long[order(df_long[,\"Cluster\"],df_long[,\"CellCycle\"]),]\n",
    "  \n",
    "  df_long$fraction = df_long$Value / SumAll\n",
    "  df_long$ymax = cumsum(df_long$fraction)\n",
    "  df_long$ymin = c(0, head(df_long$ymax, n = -1))\n",
    "  \n",
    "  write.csv(df_long, paste0(\"df_long_\",groupname,\".csv\"),row.names = F) # ok # \n",
    "  \n",
    "  df_long_center <- df_long[which(df_long$CellCycle!=\"gap\"),c(\"Cluster\",\"ymax\",\"ymin\")]\n",
    "  df_center <- reshape2::melt(df_long_center, id.var=\"Cluster\")\n",
    "  df_center_y <- df_center %>% group_by(Cluster) %>% dplyr::summarise(ymin=min(value),\n",
    "                                                                      ymax=max(value)) %>% as.data.frame()\n",
    "  df_center_y$ymean <- (df_center_y$ymax + df_center_y$ymin)/2\n",
    "  print(mycolor2)\n",
    "  p <- ggplot() +\n",
    "    geom_rect(data = df_long[which(df_long$CellCycle!=\"gap\"),], aes(fill = Cluster, ymax = ymax, ymin = ymin, xmax = 7, xmin = 3),show.legend = F) +\n",
    "    geom_rect(data = df_long[which(df_long$CellCycle==\"gap\"),], aes( ymax = ymax, ymin = ymin, xmax = 7, xmin = 3),fill = \"black\",show.legend = F) +\n",
    "    geom_rect(data = df_long, aes(fill = CellCycle, ymax = ymax, ymin = ymin, xmax = 8, xmin = 7.1),show.legend = F) +\n",
    "    geom_text(data = df_center_y, aes(x=rep(9,nrow(df_center_y)),y=ymean,label=Cluster), fontface=\"bold\",\n",
    "              color = \"white\",size = labelfontsize, family = labelfont)+\n",
    "    annotate(\"text\", x = 0.1, y = median(df_long$ymax), label = groupname,\n",
    "             color=\"white\",size = plottitlefontsize, family = plottitlefont, fontface=\"bold\", angle=0)+\n",
    "    scale_fill_manual(values=mycolor2)+\n",
    "    coord_polar(theta = \"y\") +\n",
    "    xlim(c(0, 10)) +\n",
    "    # theme_light() +\n",
    "    dark_theme_bw()+\n",
    "    labs(x=\"\",y=\"\")+\n",
    "    theme(panel.grid=element_blank()) + \n",
    "    theme(axis.text=element_blank()) + \n",
    "    theme(axis.ticks=element_blank()) + \n",
    "    theme(panel.border=element_blank()) \n",
    "  return(p)\n",
    "}\n",
    "\n",
    "df_rename <- function(df, annote_ct){\n",
    "  df_merged <- merge(df, annote_ct, by.x=\"row.names\", by.y=\"ClusterName\")\n",
    "  rownames(df_merged) <- df_merged$Cluster\n",
    "  df_merged <- df_merged[order(df_merged$Cluster),]\n",
    "  df_merged$Cluster <- NULL\n",
    "  df_merged$Row.names <- NULL\n",
    "  return(df_merged)\n",
    "}\n",
    "\n",
    "df_annot <- function(df){\n",
    "  df_a_s <- NULL\n",
    "  df <- rownames_to_column(df, var = \"ClusterName\")\n",
    "  print(head(df))\n",
    "  df <- rownames_to_column(df, var = \"Cluster\")\n",
    "  print(head(df))\n",
    "  ct_annotation <- df[,1:2]\n",
    "  df_selected <- df %>% select(-c(\"ClusterName\")) %>% column_to_rownames(\"Cluster\")\n",
    "  df_a_s[[1]] <- ct_annotation\n",
    "  df_a_s[[2]] <- df_selected\n",
    "  return(df_a_s)\n",
    "}\n"
   ]
  },
  {
   "cell_type": "code",
   "execution_count": 51,
   "id": "e9a9b1a3-f510-4582-b2d7-8251dcc11ff0",
   "metadata": {
    "execution": {
     "iopub.execute_input": "2025-01-09T13:25:44.057934Z",
     "iopub.status.busy": "2025-01-09T13:25:44.054162Z",
     "iopub.status.idle": "2025-01-09T13:25:44.083290Z",
     "shell.execute_reply": "2025-01-09T13:25:44.079798Z"
    },
    "tags": [],
    "vscode": {
     "languageId": "r"
    }
   },
   "outputs": [],
   "source": [
    "RunCellCyclePlot <- function(data,FilterCluster= NULL,cellcycle_annotation=NULL,\n",
    "                            ClusterColour = NULL,CellCycleColour = NULL,\n",
    "                            labelfontsize = 5,labelfont = \"sans\",plottitlefontsize = 5,\n",
    "                         plottitlefont = \"sans\",plot_width =10,plot_height = 8,\n",
    "                            Legend = TRUE,legendnumsize = 3,\n",
    "                       legendnumfont = \"sans\",legendlabelfontsize = 5,\n",
    "                        legendlabelfont = \"sans\",legendwidth = 6,\n",
    "                        legendheight = 5){\n",
    "    \n",
    "    GF_Phase <- data %>% filter(mice == \"GF\")\n",
    "    GF_Phase <- as.data.frame.array(table(GF_Phase$clusters,GF_Phase$Phase))\n",
    "    SPF_Phase <- data %>% filter(mice == \"SPF\")\n",
    "    SPF_Phase <- as.data.frame.array(table(SPF_Phase$clusters,SPF_Phase$Phase))\n",
    "\n",
    "    if (!is.null(FilterCluster)){\n",
    "      GF_Phase <- GF_Phase[which(!GF_Phase$clusters %in% FilterCluster),] # filter cluster !! lwm \n",
    "      SPF_Phase <- SPF_Phase[which(!SPF_Phase$clusters %in% FilterCluster),]\n",
    "    }\n",
    "\n",
    "    if (!is.null(cellcycle_annotation)){\n",
    "      print(\"abc\")\n",
    "      cellcycle_annotation <- read.table(cellcycle_annotation, sep=\"\\t\", header = T)\n",
    "      GF_Phase <- df_rename(GF_Phase, cellcycle_annotation)\n",
    "      SPF_Phase <- df_rename(SPF_Phase, cellcycle_annotation)\n",
    "    }else{\n",
    "      GF_annot_res <- df_annot(GF_Phase)\n",
    "      print('b--')\n",
    "      print(head(GF_annot_res[[1]]))\n",
    "      print(\"a--\")\n",
    "      print(head(GF_annot_res[[2]]))\n",
    "      GF_Phase <- GF_annot_res[[2]]\n",
    "      SPF_annot_res <- df_annot(SPF_Phase)\n",
    "      SPF_Phase <- SPF_annot_res[[2]]\n",
    "      cellcycle_annotation <- SPF_annot_res[[1]]\n",
    "    }\n",
    "\n",
    "    nCluster = nrow(GF_Phase)\n",
    "\n",
    "    if (is.null(ClusterColour)){\n",
    "      mycolor = colorRampPalette(brewer.pal(9, \"Set1\"))(nCluster)\n",
    "      names(mycolor) <- rownames(GF_Phase)\n",
    "    }else{\n",
    "      if (is.null(names(ClusterColour))){\n",
    "        mycolor <- ClusterColour\n",
    "        names(mycolor) <- rownames(GF_Phase)\n",
    "      }else{\n",
    "        mycolor <- ClusterColour\n",
    "      }\n",
    "    }\n",
    "\n",
    "    if (is.null(CellCycleColour)){\n",
    "      CellCycleColour <- c(\"#0073C2FF\", \"#EFC000FF\", \"#CD534CFF\")\n",
    "    }\n",
    "    mycolor2 <- c(mycolor, \"G1\"=CellCycleColour[1], \"G2M\"=CellCycleColour[2], \"S\"=CellCycleColour[3],\"gap\"=\"black\")\n",
    "    ccp_gf <- CellCyclePlot(GF_Phase,groupname= \"GF\",labelfontsize,labelfont,plottitlefontsize,plottitlefont,\n",
    "                           mycolor2)\n",
    "    ccp_spf <- CellCyclePlot(SPF_Phase,groupname=\"SPF\",labelfontsize,labelfont,plottitlefontsize,plottitlefont,\n",
    "                             mycolor2)\n",
    "    ccp_group <- ggarrange(ccp_gf, ccp_spf, ncol = 2, nrow = 1) # ?? # \n",
    "    print(\"abc\")\n",
    "    ggsave(\"CellCyclePlot_group.pdf\",ccp_group,device='pdf',width = plot_width, height = plot_height)\n",
    "\n",
    "    if (Legend){\n",
    "      if (!is.null(FilterCluster)){\n",
    "        cellcycle_annotation <- cellcycle_annotation[which(!cellcycle_annotation$Cluster %in% FilterCluster),]\n",
    "      }\n",
    "  \n",
    "      xend <- ceiling(nCluster/15)\n",
    "      xeach <- ceiling(nCluster/xend)\n",
    "      xlist <- sort(rep(c(1:xend), each=xeach, length.out = nCluster))\n",
    "      df_xlist <- table(xlist) %>% as.data.frame()\n",
    "      ylist <- rep(c(max(df_xlist$Freq):1),nrow(df_xlist), length.out=nCluster)\n",
    "  \n",
    "      df_legend <- cellcycle_annotation\n",
    "      df_legend$x <- xlist\n",
    "      df_legend$y <- ylist\n",
    "  \n",
    "      df_legend2 <- data.frame(Cluster=c(\"G1\",\"G2M\",\"S\"))\n",
    "      df_legend2$Cluster <- as.factor(df_legend2$Cluster)\n",
    "      df_legend2$y <- c(rep(0,3))\n",
    "      df_legend2$x <- c(seq(1,3))\n",
    "  \n",
    "      p_lgd2 <- ggplot(df_legend2, aes(x=x, y=y))+\n",
    "        geom_rect(data = df_legend2, aes(fill = as.factor(Cluster), ymax = y+0.02, ymin = y-0.02, xmax = x+0.05, xmin = x-0.05),show.legend = F)+\n",
    "        labs(x='',y='',title=\"\")+\n",
    "        geom_text(aes(x=x+0.1, y=y,label=Cluster), fontface=\"bold\",color = \"white\",size = legendlabelfontsize, family = legendlabelfont, hjust = 0)+\n",
    "        geom_text(aes(x=1, y=0.1, label=\"Cell Cycle\"), fontface=\"bold\",color = \"white\",size = 6, family = legendlabelfont, hjust = 0)+\n",
    "        # theme_map()+\n",
    "        dark_theme_void()+\n",
    "        scale_x_continuous(limits = c(-0.5, 4))+\n",
    "        scale_y_continuous(limits = c(-0.5, 0.5))+\n",
    "        theme(axis.text = element_blank())+\n",
    "        theme(axis.ticks = element_blank())+\n",
    "        theme(panel.border = element_blank())+\n",
    "        theme(axis.title = element_blank())+\n",
    "        scale_fill_manual(values=CellCycleColour)+\n",
    "        theme(legend.position = \"none\")\n",
    "      ggsave(\"CellCyclePlot_legend2.pdf\",p_lgd2,device='pdf',width = legendwidth, height = legendheight)\n",
    "    }\n",
    "}"
   ]
  },
  {
   "cell_type": "code",
   "execution_count": null,
   "id": "1d1cc17c-dd31-45f0-8106-16320cdb46e6",
   "metadata": {
    "vscode": {
     "languageId": "r"
    }
   },
   "outputs": [],
   "source": [
    "df <- bcells@meta.data %>% select(mice,Phase,clusters)"
   ]
  },
  {
   "cell_type": "code",
   "execution_count": 52,
   "id": "687db7be-a10d-4229-bb00-4991334a8064",
   "metadata": {
    "execution": {
     "iopub.execute_input": "2025-01-09T13:25:46.319691Z",
     "iopub.status.busy": "2025-01-09T13:25:46.318589Z",
     "iopub.status.idle": "2025-01-09T13:25:47.468276Z",
     "shell.execute_reply": "2025-01-09T13:25:47.466875Z"
    },
    "tags": [],
    "vscode": {
     "languageId": "r"
    }
   },
   "outputs": [
    {
     "name": "stdout",
     "output_type": "stream",
     "text": [
      "  ClusterName   G1 G2M   S\n",
      "1           0   78  20  11\n",
      "2           1  460 236  90\n",
      "3           2  669 290 178\n",
      "4           3 1539 434 363\n",
      "5           4  421 156 138\n",
      "6           5  771 234 259\n",
      "  Cluster ClusterName   G1 G2M   S\n",
      "1       1           0   78  20  11\n",
      "2       2           1  460 236  90\n",
      "3       3           2  669 290 178\n",
      "4       4           3 1539 434 363\n",
      "5       5           4  421 156 138\n",
      "6       6           5  771 234 259\n",
      "[1] \"b--\"\n",
      "  Cluster ClusterName\n",
      "1       1           0\n",
      "2       2           1\n",
      "3       3           2\n",
      "4       4           3\n",
      "5       5           4\n",
      "6       6           5\n",
      "[1] \"a--\"\n",
      "    G1 G2M   S\n",
      "1   78  20  11\n",
      "2  460 236  90\n",
      "3  669 290 178\n",
      "4 1539 434 363\n",
      "5  421 156 138\n",
      "6  771 234 259\n",
      "  ClusterName   G1  G2M    S\n",
      "1           0   32   15    7\n",
      "2           1  464  215   68\n",
      "3           2  600  199  130\n",
      "4           3 1608  376  375\n",
      "5           4 1469  451  558\n",
      "6           5 1883 1403 1555\n",
      "  Cluster ClusterName   G1  G2M    S\n",
      "1       1           0   32   15    7\n",
      "2       2           1  464  215   68\n",
      "3       3           2  600  199  130\n",
      "4       4           3 1608  376  375\n",
      "5       5           4 1469  451  558\n",
      "6       6           5 1883 1403 1555\n",
      "          1           2           3           4           5           6 \n",
      "  \"#E41A1C\"   \"#924965\"   \"#4178AE\"   \"#40928A\"   \"#4AA956\"   \"#678C69\" \n",
      "          7           8           9          10          11          12 \n",
      "  \"#8A5F93\"   \"#B65C73\"   \"#E67326\"   \"#FF9D0C\"   \"#FFD924\"   \"#EFE131\" \n",
      "         13          14          15          16          17          18 \n",
      "  \"#C5912B\"   \"#AF5B39\"   \"#D56F80\"   \"#F182BC\"   \"#C58DAA\"   \"#999999\" \n",
      "         G1         G2M           S         gap \n",
      "\"#0073C2FF\" \"#EFC000FF\" \"#CD534CFF\"     \"black\" \n",
      "          1           2           3           4           5           6 \n",
      "  \"#E41A1C\"   \"#924965\"   \"#4178AE\"   \"#40928A\"   \"#4AA956\"   \"#678C69\" \n",
      "          7           8           9          10          11          12 \n",
      "  \"#8A5F93\"   \"#B65C73\"   \"#E67326\"   \"#FF9D0C\"   \"#FFD924\"   \"#EFE131\" \n",
      "         13          14          15          16          17          18 \n",
      "  \"#C5912B\"   \"#AF5B39\"   \"#D56F80\"   \"#F182BC\"   \"#C58DAA\"   \"#999999\" \n",
      "         G1         G2M           S         gap \n",
      "\"#0073C2FF\" \"#EFC000FF\" \"#CD534CFF\"     \"black\" \n",
      "[1] \"abc\"\n"
     ]
    }
   ],
   "source": [
    "p <- RunCellCyclePlot(data = df)"
   ]
  },
  {
   "cell_type": "markdown",
   "id": "a968eb55-ba16-4cf3-9c82-2325cadce15d",
   "metadata": {},
   "source": [
    "Figure 2C "
   ]
  },
  {
   "cell_type": "code",
   "execution_count": 109,
   "id": "b75b86cc-e690-403f-bf83-1c7aff4f5d46",
   "metadata": {
    "execution": {
     "iopub.execute_input": "2025-01-09T14:04:07.722433Z",
     "iopub.status.busy": "2025-01-09T14:04:07.720775Z",
     "iopub.status.idle": "2025-01-09T14:04:07.757799Z",
     "shell.execute_reply": "2025-01-09T14:04:07.755958Z"
    },
    "tags": [],
    "vscode": {
     "languageId": "r"
    }
   },
   "outputs": [
    {
     "data": {
      "text/html": [
       "<span style=white-space:pre-wrap>'Thu Jan  9 22:04:07 2025'</span>"
      ],
      "text/latex": [
       "'Thu Jan  9 22:04:07 2025'"
      ],
      "text/markdown": [
       "<span style=white-space:pre-wrap>'Thu Jan  9 22:04:07 2025'</span>"
      ],
      "text/plain": [
       "[1] \"Thu Jan  9 22:04:07 2025\""
      ]
     },
     "metadata": {},
     "output_type": "display_data"
    }
   ],
   "source": [
    "dotplot_custom <- function(df_nums,rowlist,collist,col_names){\n",
    "    df_nums$celltypes <- rownames(df_nums)\n",
    "    range01 <- function(x){(x - min(x)) / (max(x) - min(x))}\n",
    "    df_prop <-  df_nums %>% select(-c(\"celltypes\"))\n",
    "    df_prop <- apply(df_prop, 2, function(x){x/sum(x)*100})\n",
    "    rewrite0_row <- which(apply(df_prop,1,min)!=0)\n",
    "    df_prop <- as.data.frame(t(apply(df_prop, 1, range01)))\n",
    "    minpseudo <- min(df_prop[df_prop!=0])/2\n",
    "    for (i in rewrite0_row){\n",
    "      df_prop[i,which(df_prop[i,]==0)] <- minpseudo\n",
    "    }\n",
    "    df_prop$celltypes <- df_nums$celltypes\n",
    "    \n",
    "    df_prop_long <- reshape2::melt(df_prop, id.var='celltypes', variable.name='Organs', value.name = \"Propstat\")\n",
    "    df_nums_long <- reshape2::melt(df_nums, id.var='celltypes', variable.name='Organs', value.name = \"Numstat\")\n",
    "\n",
    "    df_long <- dplyr::left_join(df_prop_long,df_nums_long,by=c(\"celltypes\",\"Organs\"))\n",
    "    df_long$celltypes <- as.factor(df_long$celltypes)\n",
    "    df_long$Organs <- as.factor(df_long$Organs)\n",
    "    df_long$Numstat[df_long$Numstat==0] <- NA \n",
    "    df_long$Propstat[df_long$Propstat==0] <- NA\n",
    "\n",
    "    df_newname <- data.frame(celltypes=rowlist, newname= rowlist)\n",
    "\n",
    "    df_long_newname <- merge(df_long,df_newname,by=\"celltypes\",all.x = T)\n",
    "\n",
    "    df_long <- df_long_newname[,c(5,2,3,4)]\n",
    "    colnames(df_long)[1] <- \"celltypes\"\n",
    "    \n",
    "    print(head(df_long)) \n",
    "    print(unique(df_long$celltypes)) \n",
    "    df_long$celltypes <- factor(df_long$celltypes, levels = rev(df_newname$newname))\n",
    "    df_long$Organs <- factor(df_long$Organs, levels = c(collist))\n",
    "    df_long$Numstat <- cut(df_long$Numstat, breaks = c(-Inf, 100, 250, 500, 750, 1000, 5000, Inf), \n",
    "                           labels = c(\"1-100\", \"101-250\", \"251-500\", \"501-750\", \"750-1000\", \"1000-5000\", \">5000\"), right=FALSE)\n",
    "\n",
    "    p <- ggplot(df_long,aes(x=Organs,y=celltypes))+\n",
    "              geom_point(aes(size=Propstat, color=Numstat))+\n",
    "              theme_bw()+\n",
    "                guides(shape = guide_legend(override.aes = list(size=20)))+\n",
    "          theme(axis.text.x = element_text(size = 15, face=\"bold\", vjust = 0.5, hjust = 0.5, angle = 0),\n",
    "                axis.text.y = element_text(size = 15, face=\"bold\"))+\n",
    "          theme(legend.title = element_text(size = 15, face=\"bold\"),\n",
    "                legend.text = element_text(size = 13)) +\n",
    "          scale_color_manual(values = col_names[3:10]) +  labs(x=NULL,y=NULL)  + coord_flip() \n",
    "    return(p)\n",
    "}\n",
    "# use cluster # \n",
    "GetMergeTable <- function(object,var){\n",
    "    print(object)\n",
    "    whole <- as.data.frame.array(table(object@meta.data$clusters,object@meta.data$mice))\n",
    "    print(whole)\n",
    "    Idents(object) <- var\n",
    "    for( i in unique(object@meta.data[,var])){\n",
    "        print(i)\n",
    "        subObj <- subset(object, idents = i)\n",
    "        tissue_table <- as.data.frame.array(table(subObj@meta.data$clusters,subObj@meta.data$mice))\n",
    "        tissue_prefix <- rep(i,2)\n",
    "        table_newnames <- paste(colnames(tissue_table),tissue_prefix,sep = \"_\")\n",
    "        colnames(tissue_table) <- table_newnames\n",
    "        whole <- cbind(whole,tissue_table)\n",
    "    }\n",
    "    return(whole)\n",
    "} \n",
    "\n",
    "date()"
   ]
  },
  {
   "cell_type": "code",
   "execution_count": 103,
   "id": "749fb7fe-4acd-4ac3-995f-5020a7198868",
   "metadata": {
    "execution": {
     "iopub.execute_input": "2025-01-09T14:02:05.117586Z",
     "iopub.status.busy": "2025-01-09T14:02:05.116063Z",
     "iopub.status.idle": "2025-01-09T14:02:12.681446Z",
     "shell.execute_reply": "2025-01-09T14:02:12.680260Z"
    },
    "tags": [],
    "vscode": {
     "languageId": "r"
    }
   },
   "outputs": [
    {
     "name": "stdout",
     "output_type": "stream",
     "text": [
      "An object of class Seurat \n",
      "32886 features across 55387 samples within 2 assays \n",
      "Active assay: RNA (30886 features, 0 variable features)\n",
      " 1 other assay present: integrated\n",
      " 3 dimensional reductions calculated: pca, umap, tsne\n",
      "     GF  SPF\n",
      "0   109   54\n",
      "1   786  747\n",
      "2  1137  929\n",
      "3  2336 2359\n",
      "4   715 2478\n",
      "5  1264 4841\n",
      "6  1238 5584\n",
      "7   403 4964\n",
      "8  3526 4527\n",
      "9  1190 1289\n",
      "10  456 1212\n",
      "11  687 1353\n",
      "12 1593 1379\n",
      "13  790 1920\n",
      "14  203 3315\n",
      "15   20  603\n",
      "16  159  399\n",
      "17    6  816\n",
      "[1] \"blood\"\n",
      "[1] \"bm\"\n",
      "[1] \"liver\"\n",
      "[1] \"spleen\"\n",
      "[1] \"thymus\"\n",
      "[1] \"cecum\"\n",
      "[1] \"colon\"\n",
      "[1] \"ileum\"\n"
     ]
    }
   ],
   "source": [
    "collist <- c(\"GF\",\"SPF\",\n",
    "             \"GF_bm\",\"SPF_bm\",\n",
    "             \"GF_spleen\",\"SPF_spleen\",\n",
    "             \"GF_liver\",\"SPF_liver\",\n",
    "             \"GF_cecum\",\"SPF_cecum\",\n",
    "             \"GF_colon\",\"SPF_colon\",\n",
    "             \"GF_ileum\",\"SPF_ileum\",\n",
    "             \"GF_thymus\",\"SPF_thymus\",\n",
    "             \"GF_blood\",\"SPF_blood\")\n",
    "col_names <- c(\n",
    "  \"#3B9AB2\",\n",
    "  \"#56A6BA\",\n",
    "  \"#71B3C2\",\n",
    "  \"#9EBE91\",\n",
    "  \"#D1C74C\",\n",
    "  \"#E8C520\",\n",
    "  \"#E4B80E\",\n",
    "  \"#E29E00\",\n",
    "  \"#EA5C00\",\n",
    "  \"#F21A00\")\n",
    "\n",
    "dat <- GetMergeTable(object = bcells, var = \"tissue\")\n",
    "rowlist = c(0,1,2,12,5,13,6,8,9,7,10,14,17,15,4,3,11,16)"
   ]
  },
  {
   "cell_type": "code",
   "execution_count": 104,
   "id": "b373ad0e-c246-419b-8be7-963671f727da",
   "metadata": {
    "execution": {
     "iopub.execute_input": "2025-01-09T14:02:16.996812Z",
     "iopub.status.busy": "2025-01-09T14:02:16.995858Z",
     "iopub.status.idle": "2025-01-09T14:02:17.057918Z",
     "shell.execute_reply": "2025-01-09T14:02:17.056646Z"
    },
    "tags": [],
    "vscode": {
     "languageId": "r"
    }
   },
   "outputs": [
    {
     "data": {
      "text/html": [
       "<table class=\"dataframe\">\n",
       "<caption>A data.frame: 18 × 18</caption>\n",
       "<thead>\n",
       "\t<tr><th></th><th scope=col>GF</th><th scope=col>SPF</th><th scope=col>GF_blood</th><th scope=col>SPF_blood</th><th scope=col>GF_bm</th><th scope=col>SPF_bm</th><th scope=col>GF_liver</th><th scope=col>SPF_liver</th><th scope=col>GF_spleen</th><th scope=col>SPF_spleen</th><th scope=col>GF_thymus</th><th scope=col>SPF_thymus</th><th scope=col>GF_cecum</th><th scope=col>SPF_cecum</th><th scope=col>GF_colon</th><th scope=col>SPF_colon</th><th scope=col>GF_ileum</th><th scope=col>SPF_ileum</th></tr>\n",
       "\t<tr><th></th><th scope=col>&lt;int&gt;</th><th scope=col>&lt;int&gt;</th><th scope=col>&lt;int&gt;</th><th scope=col>&lt;int&gt;</th><th scope=col>&lt;int&gt;</th><th scope=col>&lt;int&gt;</th><th scope=col>&lt;int&gt;</th><th scope=col>&lt;int&gt;</th><th scope=col>&lt;int&gt;</th><th scope=col>&lt;int&gt;</th><th scope=col>&lt;int&gt;</th><th scope=col>&lt;int&gt;</th><th scope=col>&lt;int&gt;</th><th scope=col>&lt;int&gt;</th><th scope=col>&lt;int&gt;</th><th scope=col>&lt;int&gt;</th><th scope=col>&lt;int&gt;</th><th scope=col>&lt;int&gt;</th></tr>\n",
       "</thead>\n",
       "<tbody>\n",
       "\t<tr><th scope=row>0</th><td> 109</td><td>  54</td><td>   0</td><td>   0</td><td> 109</td><td> 41</td><td>  0</td><td>  2</td><td>   0</td><td>  10</td><td> 0</td><td>  0</td><td>  0</td><td>   0</td><td>   0</td><td>   0</td><td>   0</td><td>   1</td></tr>\n",
       "\t<tr><th scope=row>1</th><td> 786</td><td> 747</td><td>   0</td><td>   1</td><td> 784</td><td>508</td><td>  0</td><td>  4</td><td>   0</td><td> 219</td><td> 0</td><td>  0</td><td>  0</td><td>  13</td><td>   0</td><td>   0</td><td>   2</td><td>   2</td></tr>\n",
       "\t<tr><th scope=row>2</th><td>1137</td><td> 929</td><td> 103</td><td> 119</td><td>1023</td><td>511</td><td>  6</td><td> 11</td><td>   5</td><td> 274</td><td> 0</td><td>  2</td><td>  0</td><td>   8</td><td>   0</td><td>   2</td><td>   0</td><td>   2</td></tr>\n",
       "\t<tr><th scope=row>3</th><td>2336</td><td>2359</td><td>1647</td><td>1495</td><td> 368</td><td> 51</td><td> 32</td><td> 23</td><td> 208</td><td> 361</td><td> 0</td><td>  5</td><td> 11</td><td> 207</td><td>  48</td><td> 182</td><td>  22</td><td>  35</td></tr>\n",
       "\t<tr><th scope=row>4</th><td> 715</td><td>2478</td><td>   3</td><td>   3</td><td> 295</td><td>  2</td><td>358</td><td>734</td><td>  56</td><td>1635</td><td> 1</td><td>  3</td><td>  0</td><td>  16</td><td>   1</td><td>  56</td><td>   1</td><td>  29</td></tr>\n",
       "\t<tr><th scope=row>5</th><td>1264</td><td>4841</td><td>   5</td><td>   0</td><td>  31</td><td>  1</td><td> 43</td><td> 61</td><td>1071</td><td>3544</td><td>11</td><td>  2</td><td>  9</td><td>1051</td><td>  77</td><td> 154</td><td>  17</td><td>  28</td></tr>\n",
       "\t<tr><th scope=row>6</th><td>1238</td><td>5584</td><td>   0</td><td>   0</td><td>   2</td><td>  1</td><td>  2</td><td>  7</td><td> 609</td><td> 554</td><td> 4</td><td>  3</td><td> 71</td><td>3783</td><td> 310</td><td>1058</td><td> 240</td><td> 178</td></tr>\n",
       "\t<tr><th scope=row>7</th><td> 403</td><td>4964</td><td>   2</td><td>   0</td><td> 225</td><td>  0</td><td> 11</td><td>  9</td><td> 100</td><td>  41</td><td> 2</td><td> 13</td><td>  3</td><td>  49</td><td>  38</td><td>1416</td><td>  22</td><td>3436</td></tr>\n",
       "\t<tr><th scope=row>8</th><td>3526</td><td>4527</td><td>   8</td><td>   1</td><td>  13</td><td>  0</td><td>  0</td><td>  4</td><td> 226</td><td> 255</td><td>11</td><td>112</td><td>107</td><td> 649</td><td>1907</td><td>2155</td><td>1254</td><td>1351</td></tr>\n",
       "\t<tr><th scope=row>9</th><td>1190</td><td>1289</td><td>  57</td><td>  50</td><td>  82</td><td> 13</td><td> 13</td><td>  9</td><td> 163</td><td> 182</td><td> 6</td><td> 21</td><td> 33</td><td> 450</td><td> 648</td><td> 365</td><td> 188</td><td> 199</td></tr>\n",
       "\t<tr><th scope=row>10</th><td> 456</td><td>1212</td><td>   0</td><td>  16</td><td>   0</td><td>  1</td><td> 12</td><td> 70</td><td>  27</td><td> 102</td><td>22</td><td> 34</td><td> 37</td><td> 163</td><td> 219</td><td> 289</td><td> 139</td><td> 537</td></tr>\n",
       "\t<tr><th scope=row>11</th><td> 687</td><td>1353</td><td> 231</td><td> 374</td><td>  70</td><td> 25</td><td>113</td><td> 81</td><td> 217</td><td> 734</td><td>15</td><td> 13</td><td>  6</td><td>  66</td><td>  29</td><td>  35</td><td>   6</td><td>  25</td></tr>\n",
       "\t<tr><th scope=row>12</th><td>1593</td><td>1379</td><td>   7</td><td>   7</td><td>  13</td><td>  1</td><td>  4</td><td>  7</td><td>1555</td><td>1310</td><td> 1</td><td>  1</td><td>  3</td><td>  38</td><td>   7</td><td>  12</td><td>   3</td><td>   3</td></tr>\n",
       "\t<tr><th scope=row>13</th><td> 790</td><td>1920</td><td>   5</td><td>  15</td><td>   9</td><td>  2</td><td>  9</td><td> 44</td><td> 264</td><td> 640</td><td> 2</td><td> 18</td><td> 37</td><td> 408</td><td> 447</td><td> 648</td><td>  17</td><td> 145</td></tr>\n",
       "\t<tr><th scope=row>14</th><td> 203</td><td>3315</td><td>   1</td><td>  52</td><td>   5</td><td>  7</td><td>  8</td><td>354</td><td>   3</td><td>  85</td><td> 6</td><td>  3</td><td> 36</td><td> 228</td><td>  33</td><td>1122</td><td> 111</td><td>1464</td></tr>\n",
       "\t<tr><th scope=row>15</th><td>  20</td><td> 603</td><td>   0</td><td>   4</td><td>  11</td><td>  5</td><td>  0</td><td>156</td><td>   9</td><td>  99</td><td> 0</td><td>  1</td><td>  0</td><td>  19</td><td>   0</td><td> 188</td><td>   0</td><td> 131</td></tr>\n",
       "\t<tr><th scope=row>16</th><td> 159</td><td> 399</td><td>   0</td><td>   1</td><td>   9</td><td>  8</td><td>  0</td><td> 30</td><td> 139</td><td> 340</td><td>10</td><td> 12</td><td>  0</td><td>   2</td><td>   0</td><td>   1</td><td>   1</td><td>   5</td></tr>\n",
       "\t<tr><th scope=row>17</th><td>   6</td><td> 816</td><td>   0</td><td>  10</td><td>   2</td><td>  1</td><td>  0</td><td> 96</td><td>   3</td><td>  30</td><td> 0</td><td>  1</td><td>  0</td><td>  32</td><td>   0</td><td> 403</td><td>   1</td><td> 243</td></tr>\n",
       "</tbody>\n",
       "</table>\n"
      ],
      "text/latex": [
       "A data.frame: 18 × 18\n",
       "\\begin{tabular}{r|llllllllllllllllll}\n",
       "  & GF & SPF & GF\\_blood & SPF\\_blood & GF\\_bm & SPF\\_bm & GF\\_liver & SPF\\_liver & GF\\_spleen & SPF\\_spleen & GF\\_thymus & SPF\\_thymus & GF\\_cecum & SPF\\_cecum & GF\\_colon & SPF\\_colon & GF\\_ileum & SPF\\_ileum\\\\\n",
       "  & <int> & <int> & <int> & <int> & <int> & <int> & <int> & <int> & <int> & <int> & <int> & <int> & <int> & <int> & <int> & <int> & <int> & <int>\\\\\n",
       "\\hline\n",
       "\t0 &  109 &   54 &    0 &    0 &  109 &  41 &   0 &   2 &    0 &   10 &  0 &   0 &   0 &    0 &    0 &    0 &    0 &    1\\\\\n",
       "\t1 &  786 &  747 &    0 &    1 &  784 & 508 &   0 &   4 &    0 &  219 &  0 &   0 &   0 &   13 &    0 &    0 &    2 &    2\\\\\n",
       "\t2 & 1137 &  929 &  103 &  119 & 1023 & 511 &   6 &  11 &    5 &  274 &  0 &   2 &   0 &    8 &    0 &    2 &    0 &    2\\\\\n",
       "\t3 & 2336 & 2359 & 1647 & 1495 &  368 &  51 &  32 &  23 &  208 &  361 &  0 &   5 &  11 &  207 &   48 &  182 &   22 &   35\\\\\n",
       "\t4 &  715 & 2478 &    3 &    3 &  295 &   2 & 358 & 734 &   56 & 1635 &  1 &   3 &   0 &   16 &    1 &   56 &    1 &   29\\\\\n",
       "\t5 & 1264 & 4841 &    5 &    0 &   31 &   1 &  43 &  61 & 1071 & 3544 & 11 &   2 &   9 & 1051 &   77 &  154 &   17 &   28\\\\\n",
       "\t6 & 1238 & 5584 &    0 &    0 &    2 &   1 &   2 &   7 &  609 &  554 &  4 &   3 &  71 & 3783 &  310 & 1058 &  240 &  178\\\\\n",
       "\t7 &  403 & 4964 &    2 &    0 &  225 &   0 &  11 &   9 &  100 &   41 &  2 &  13 &   3 &   49 &   38 & 1416 &   22 & 3436\\\\\n",
       "\t8 & 3526 & 4527 &    8 &    1 &   13 &   0 &   0 &   4 &  226 &  255 & 11 & 112 & 107 &  649 & 1907 & 2155 & 1254 & 1351\\\\\n",
       "\t9 & 1190 & 1289 &   57 &   50 &   82 &  13 &  13 &   9 &  163 &  182 &  6 &  21 &  33 &  450 &  648 &  365 &  188 &  199\\\\\n",
       "\t10 &  456 & 1212 &    0 &   16 &    0 &   1 &  12 &  70 &   27 &  102 & 22 &  34 &  37 &  163 &  219 &  289 &  139 &  537\\\\\n",
       "\t11 &  687 & 1353 &  231 &  374 &   70 &  25 & 113 &  81 &  217 &  734 & 15 &  13 &   6 &   66 &   29 &   35 &    6 &   25\\\\\n",
       "\t12 & 1593 & 1379 &    7 &    7 &   13 &   1 &   4 &   7 & 1555 & 1310 &  1 &   1 &   3 &   38 &    7 &   12 &    3 &    3\\\\\n",
       "\t13 &  790 & 1920 &    5 &   15 &    9 &   2 &   9 &  44 &  264 &  640 &  2 &  18 &  37 &  408 &  447 &  648 &   17 &  145\\\\\n",
       "\t14 &  203 & 3315 &    1 &   52 &    5 &   7 &   8 & 354 &    3 &   85 &  6 &   3 &  36 &  228 &   33 & 1122 &  111 & 1464\\\\\n",
       "\t15 &   20 &  603 &    0 &    4 &   11 &   5 &   0 & 156 &    9 &   99 &  0 &   1 &   0 &   19 &    0 &  188 &    0 &  131\\\\\n",
       "\t16 &  159 &  399 &    0 &    1 &    9 &   8 &   0 &  30 &  139 &  340 & 10 &  12 &   0 &    2 &    0 &    1 &    1 &    5\\\\\n",
       "\t17 &    6 &  816 &    0 &   10 &    2 &   1 &   0 &  96 &    3 &   30 &  0 &   1 &   0 &   32 &    0 &  403 &    1 &  243\\\\\n",
       "\\end{tabular}\n"
      ],
      "text/markdown": [
       "\n",
       "A data.frame: 18 × 18\n",
       "\n",
       "| <!--/--> | GF &lt;int&gt; | SPF &lt;int&gt; | GF_blood &lt;int&gt; | SPF_blood &lt;int&gt; | GF_bm &lt;int&gt; | SPF_bm &lt;int&gt; | GF_liver &lt;int&gt; | SPF_liver &lt;int&gt; | GF_spleen &lt;int&gt; | SPF_spleen &lt;int&gt; | GF_thymus &lt;int&gt; | SPF_thymus &lt;int&gt; | GF_cecum &lt;int&gt; | SPF_cecum &lt;int&gt; | GF_colon &lt;int&gt; | SPF_colon &lt;int&gt; | GF_ileum &lt;int&gt; | SPF_ileum &lt;int&gt; |\n",
       "|---|---|---|---|---|---|---|---|---|---|---|---|---|---|---|---|---|---|---|\n",
       "| 0 |  109 |   54 |    0 |    0 |  109 |  41 |   0 |   2 |    0 |   10 |  0 |   0 |   0 |    0 |    0 |    0 |    0 |    1 |\n",
       "| 1 |  786 |  747 |    0 |    1 |  784 | 508 |   0 |   4 |    0 |  219 |  0 |   0 |   0 |   13 |    0 |    0 |    2 |    2 |\n",
       "| 2 | 1137 |  929 |  103 |  119 | 1023 | 511 |   6 |  11 |    5 |  274 |  0 |   2 |   0 |    8 |    0 |    2 |    0 |    2 |\n",
       "| 3 | 2336 | 2359 | 1647 | 1495 |  368 |  51 |  32 |  23 |  208 |  361 |  0 |   5 |  11 |  207 |   48 |  182 |   22 |   35 |\n",
       "| 4 |  715 | 2478 |    3 |    3 |  295 |   2 | 358 | 734 |   56 | 1635 |  1 |   3 |   0 |   16 |    1 |   56 |    1 |   29 |\n",
       "| 5 | 1264 | 4841 |    5 |    0 |   31 |   1 |  43 |  61 | 1071 | 3544 | 11 |   2 |   9 | 1051 |   77 |  154 |   17 |   28 |\n",
       "| 6 | 1238 | 5584 |    0 |    0 |    2 |   1 |   2 |   7 |  609 |  554 |  4 |   3 |  71 | 3783 |  310 | 1058 |  240 |  178 |\n",
       "| 7 |  403 | 4964 |    2 |    0 |  225 |   0 |  11 |   9 |  100 |   41 |  2 |  13 |   3 |   49 |   38 | 1416 |   22 | 3436 |\n",
       "| 8 | 3526 | 4527 |    8 |    1 |   13 |   0 |   0 |   4 |  226 |  255 | 11 | 112 | 107 |  649 | 1907 | 2155 | 1254 | 1351 |\n",
       "| 9 | 1190 | 1289 |   57 |   50 |   82 |  13 |  13 |   9 |  163 |  182 |  6 |  21 |  33 |  450 |  648 |  365 |  188 |  199 |\n",
       "| 10 |  456 | 1212 |    0 |   16 |    0 |   1 |  12 |  70 |   27 |  102 | 22 |  34 |  37 |  163 |  219 |  289 |  139 |  537 |\n",
       "| 11 |  687 | 1353 |  231 |  374 |   70 |  25 | 113 |  81 |  217 |  734 | 15 |  13 |   6 |   66 |   29 |   35 |    6 |   25 |\n",
       "| 12 | 1593 | 1379 |    7 |    7 |   13 |   1 |   4 |   7 | 1555 | 1310 |  1 |   1 |   3 |   38 |    7 |   12 |    3 |    3 |\n",
       "| 13 |  790 | 1920 |    5 |   15 |    9 |   2 |   9 |  44 |  264 |  640 |  2 |  18 |  37 |  408 |  447 |  648 |   17 |  145 |\n",
       "| 14 |  203 | 3315 |    1 |   52 |    5 |   7 |   8 | 354 |    3 |   85 |  6 |   3 |  36 |  228 |   33 | 1122 |  111 | 1464 |\n",
       "| 15 |   20 |  603 |    0 |    4 |   11 |   5 |   0 | 156 |    9 |   99 |  0 |   1 |   0 |   19 |    0 |  188 |    0 |  131 |\n",
       "| 16 |  159 |  399 |    0 |    1 |    9 |   8 |   0 |  30 |  139 |  340 | 10 |  12 |   0 |    2 |    0 |    1 |    1 |    5 |\n",
       "| 17 |    6 |  816 |    0 |   10 |    2 |   1 |   0 |  96 |    3 |   30 |  0 |   1 |   0 |   32 |    0 |  403 |    1 |  243 |\n",
       "\n"
      ],
      "text/plain": [
       "   GF   SPF  GF_blood SPF_blood GF_bm SPF_bm GF_liver SPF_liver GF_spleen\n",
       "0   109   54    0        0       109   41      0        2          0     \n",
       "1   786  747    0        1       784  508      0        4          0     \n",
       "2  1137  929  103      119      1023  511      6       11          5     \n",
       "3  2336 2359 1647     1495       368   51     32       23        208     \n",
       "4   715 2478    3        3       295    2    358      734         56     \n",
       "5  1264 4841    5        0        31    1     43       61       1071     \n",
       "6  1238 5584    0        0         2    1      2        7        609     \n",
       "7   403 4964    2        0       225    0     11        9        100     \n",
       "8  3526 4527    8        1        13    0      0        4        226     \n",
       "9  1190 1289   57       50        82   13     13        9        163     \n",
       "10  456 1212    0       16         0    1     12       70         27     \n",
       "11  687 1353  231      374        70   25    113       81        217     \n",
       "12 1593 1379    7        7        13    1      4        7       1555     \n",
       "13  790 1920    5       15         9    2      9       44        264     \n",
       "14  203 3315    1       52         5    7      8      354          3     \n",
       "15   20  603    0        4        11    5      0      156          9     \n",
       "16  159  399    0        1         9    8      0       30        139     \n",
       "17    6  816    0       10         2    1      0       96          3     \n",
       "   SPF_spleen GF_thymus SPF_thymus GF_cecum SPF_cecum GF_colon SPF_colon\n",
       "0    10        0          0          0         0         0        0     \n",
       "1   219        0          0          0        13         0        0     \n",
       "2   274        0          2          0         8         0        2     \n",
       "3   361        0          5         11       207        48      182     \n",
       "4  1635        1          3          0        16         1       56     \n",
       "5  3544       11          2          9      1051        77      154     \n",
       "6   554        4          3         71      3783       310     1058     \n",
       "7    41        2         13          3        49        38     1416     \n",
       "8   255       11        112        107       649      1907     2155     \n",
       "9   182        6         21         33       450       648      365     \n",
       "10  102       22         34         37       163       219      289     \n",
       "11  734       15         13          6        66        29       35     \n",
       "12 1310        1          1          3        38         7       12     \n",
       "13  640        2         18         37       408       447      648     \n",
       "14   85        6          3         36       228        33     1122     \n",
       "15   99        0          1          0        19         0      188     \n",
       "16  340       10         12          0         2         0        1     \n",
       "17   30        0          1          0        32         0      403     \n",
       "   GF_ileum SPF_ileum\n",
       "0     0        1     \n",
       "1     2        2     \n",
       "2     0        2     \n",
       "3    22       35     \n",
       "4     1       29     \n",
       "5    17       28     \n",
       "6   240      178     \n",
       "7    22     3436     \n",
       "8  1254     1351     \n",
       "9   188      199     \n",
       "10  139      537     \n",
       "11    6       25     \n",
       "12    3        3     \n",
       "13   17      145     \n",
       "14  111     1464     \n",
       "15    0      131     \n",
       "16    1        5     \n",
       "17    1      243     "
      ]
     },
     "metadata": {},
     "output_type": "display_data"
    }
   ],
   "source": [
    "dat"
   ]
  },
  {
   "cell_type": "code",
   "execution_count": 110,
   "id": "cc1ea3ab-2aa9-4db7-ac61-3fd108a10aa0",
   "metadata": {
    "execution": {
     "iopub.execute_input": "2025-01-09T14:04:11.784247Z",
     "iopub.status.busy": "2025-01-09T14:04:11.782602Z",
     "iopub.status.idle": "2025-01-09T14:04:12.345854Z",
     "shell.execute_reply": "2025-01-09T14:04:12.344523Z"
    },
    "tags": [],
    "vscode": {
     "languageId": "r"
    }
   },
   "outputs": [
    {
     "name": "stdout",
     "output_type": "stream",
     "text": [
      "  celltypes     Organs   Propstat Numstat\n",
      "1         0         GF 0.18359610     109\n",
      "2         0  SPF_blood         NA      NA\n",
      "3         0 SPF_spleen 0.02687549      10\n",
      "4         0   GF_cecum         NA      NA\n",
      "5         0  SPF_colon         NA      NA\n",
      "6         0        SPF 0.03898745      54\n",
      " [1]  0  1 10 11 12 13 14 15 16 17  2  3  4  5  6  7  8  9\n"
     ]
    },
    {
     "name": "stderr",
     "output_type": "stream",
     "text": [
      "Warning message:\n",
      "“\u001b[1m\u001b[22mRemoved 49 rows containing missing values (`geom_point()`).”\n"
     ]
    },
    {
     "data": {
      "image/png": "[encoded data removed]",
      "text/plain": [
       "plot without title"
      ]
     },
     "metadata": {
      "image/png": {
       "height": 480,
       "width": 600
      }
     },
     "output_type": "display_data"
    }
   ],
   "source": [
    "options(repr.plot.width = 10,repr.plot.height= 8)\n",
    "p <- dotplot_custom(df_num = dat, rowlist = rowlist,collist =  collist,col_names = col_names)  \n",
    "p"
   ]
  },
  {
   "cell_type": "markdown",
   "id": "a3b19169-bd87-4bc4-a87e-7447aa4086e5",
   "metadata": {},
   "source": [
    "Figure 2D"
   ]
  },
  {
   "cell_type": "code",
   "execution_count": 18,
   "id": "4fe50efe-2b9b-4d63-bdba-52a77a180e76",
   "metadata": {
    "execution": {
     "iopub.execute_input": "2025-01-10T06:31:09.822959Z",
     "iopub.status.busy": "2025-01-10T06:31:09.821729Z",
     "iopub.status.idle": "2025-01-10T06:31:09.832563Z",
     "shell.execute_reply": "2025-01-10T06:31:09.831184Z"
    },
    "tags": [],
    "vscode": {
     "languageId": "r"
    }
   },
   "outputs": [],
   "source": [
    "SplitViolinPlot <- function(data,color=c(\"#00AFBB\", \"#E7B800\")){\n",
    "    mytheme <- theme(\n",
    "        axis.text.y = element_text(size = 20,face = \"bold\",margin = margin(0,5,0,0)),\n",
    "        axis.text.x = element_text(size = 20,face = \"bold\",margin = margin(5,0,0,0),angle = 45,\n",
    "                                   hjust =1, vjust = 1),\n",
    "        axis.title.x = element_text(size = 25,face = \"bold\",margin = margin(10,0,0,0)),\n",
    "        axis.title.y = element_text(size = 25,face = \"bold\",margin = margin(0,10,0,0)),\n",
    "        axis.line = element_line(linetype = 1,color= \"black\",size = 1),\n",
    "        axis.ticks = element_line(linetype = 1,color= \"black\",size = 1,lineend = 100),\n",
    "        legend.text = element_text(size = 16,face = \"bold\"),\n",
    "        legend.title = element_text(size = 25,face = \"bold\"))+ \n",
    "               theme(legend.key.size = unit(1,\"cm\"), \n",
    "                  legend.spacing.x = unit(0.2,'cm'),\n",
    "                  legend.spacing.y = unit(0.2,'cm'),\n",
    "                  legend.text = element_text(margin = margin(t = 0,r = 0,b = 0,l =  0)))+\n",
    "               theme(plot.title = element_text(size = 25,hjust = 0.5,face = \"bold\"),\n",
    "                     plot.margin = margin(0,10,0,10))\n",
    "    p <- ggplot(data, aes(ident, expression, fill = split)) +\n",
    "         geom_split_violin(scale = \"width\", adjust = 1, trim = FALSE)+\n",
    "         scale_fill_manual(values=color) + \n",
    "         scale_y_continuous(expand = c(0, 0),\n",
    "                            position=\"left\") +\n",
    "         facet_grid(rows = vars(feature), scales = \"free\") + \n",
    "         theme_cowplot(font_size = 12) +\n",
    "         theme(legend.position = \"top\",legend.justification = \"center\",\n",
    "               panel.spacing = unit(0, \"lines\"),\n",
    "               panel.background = element_rect(fill = NA, color = \"black\"),\n",
    "               strip.background = element_blank(),\n",
    "               strip.text = element_text(face = \"bold\",size = 20),\n",
    "               strip.text.y.right = element_text(angle = 0,margin = margin(0,0,10,0))\n",
    "              ) +\n",
    "         ggtitle(\" \") + ylab(\"Expression Level\") + xlab(\"celltypes\") + labs(fill = \"mice\") + mytheme \n",
    "    return(p)\n",
    "} "
   ]
  },
  {
   "cell_type": "code",
   "execution_count": 7,
   "id": "bcddc6ae-133c-4ad0-979d-4202af42496f",
   "metadata": {
    "execution": {
     "iopub.execute_input": "2025-01-10T06:26:16.613349Z",
     "iopub.status.busy": "2025-01-10T06:26:16.611320Z",
     "iopub.status.idle": "2025-01-10T06:26:25.522115Z",
     "shell.execute_reply": "2025-01-10T06:26:25.519588Z"
    },
    "tags": [],
    "vscode": {
     "languageId": "r"
    }
   },
   "outputs": [],
   "source": [
    "spleen <- readRDS(\"/data/work/FinallyPlot/FinallyData/old_rds/spleen_final_annotation_paper.rds\")"
   ]
  },
  {
   "cell_type": "code",
   "execution_count": 8,
   "id": "86e8eca9-3c68-4bb9-a7cf-1852b6ac370c",
   "metadata": {
    "execution": {
     "iopub.execute_input": "2025-01-10T06:26:31.423530Z",
     "iopub.status.busy": "2025-01-10T06:26:31.422069Z",
     "iopub.status.idle": "2025-01-10T06:26:31.444651Z",
     "shell.execute_reply": "2025-01-10T06:26:31.443212Z"
    },
    "tags": [],
    "vscode": {
     "languageId": "r"
    }
   },
   "outputs": [
    {
     "name": "stdout",
     "output_type": "stream",
     "text": [
      "'data.frame':\t31572 obs. of  13 variables:\n",
      " $ orig.ident  : chr  \"GF_spleen1\" \"GF_spleen1\" \"GF_spleen1\" \"GF_spleen1\" ...\n",
      " $ nCount_RNA  : num  3547 5297 1597 4237 3368 ...\n",
      " $ nFeature_RNA: int  1368 2062 786 1633 1377 1231 2303 1064 1161 3151 ...\n",
      " $ percent.mt  : num  2.34 2.4 2.13 2.12 2.73 ...\n",
      " $ percent.ribo: num  17.6 12.3 16.4 20.8 10.5 ...\n",
      " $ percent.hb  : num  0 0 0 0 0 ...\n",
      " $ percent.plat: num  0 0 0.188 0 0 ...\n",
      " $ mice        : chr  \"GF\" \"GF\" \"GF\" \"GF\" ...\n",
      " $ tissue      : chr  \"spleen\" \"spleen\" \"spleen\" \"spleen\" ...\n",
      " $ doublet_info: chr  \"Singlet\" \"Singlet\" \"Singlet\" \"Singlet\" ...\n",
      " $ platform    : chr  \"C4\" \"C4\" \"C4\" \"C4\" ...\n",
      " $ celltypes   : Factor w/ 19 levels \"Macrophage\",\"cDC\",..: 17 18 18 15 17 15 18 15 18 18 ...\n",
      " $ clusters    : Factor w/ 19 levels \"0\",\"1\",\"2\",\"3\",..: 2 1 1 7 2 7 1 7 1 1 ...\n"
     ]
    }
   ],
   "source": [
    "str(spleen@meta.data)"
   ]
  },
  {
   "cell_type": "code",
   "execution_count": 12,
   "id": "fc20ba15-1512-4c9f-8124-9d67673a4c36",
   "metadata": {
    "execution": {
     "iopub.execute_input": "2025-01-10T06:28:47.151835Z",
     "iopub.status.busy": "2025-01-10T06:28:47.149681Z",
     "iopub.status.idle": "2025-01-10T06:28:47.174461Z",
     "shell.execute_reply": "2025-01-10T06:28:47.172459Z"
    },
    "tags": [],
    "vscode": {
     "languageId": "r"
    }
   },
   "outputs": [
    {
     "data": {
      "text/html": [
       "<style>\n",
       ".list-inline {list-style: none; margin:0; padding: 0}\n",
       ".list-inline>li {display: inline-block}\n",
       ".list-inline>li:not(:last-child)::after {content: \"\\00b7\"; padding: 0 .5ex}\n",
       "</style>\n",
       "<ol class=list-inline><li>1</li><li>0</li><li>6</li><li>4</li><li>12</li><li>7</li><li>13</li><li>9</li><li>2</li><li>5</li><li>3</li><li>18</li><li>10</li><li>11</li><li>17</li><li>8</li><li>16</li><li>15</li><li>14</li></ol>\n",
       "\n",
       "<details>\n",
       "\t<summary style=display:list-item;cursor:pointer>\n",
       "\t\t<strong>Levels</strong>:\n",
       "\t</summary>\n",
       "\t<style>\n",
       "\t.list-inline {list-style: none; margin:0; padding: 0}\n",
       "\t.list-inline>li {display: inline-block}\n",
       "\t.list-inline>li:not(:last-child)::after {content: \"\\00b7\"; padding: 0 .5ex}\n",
       "\t</style>\n",
       "\t<ol class=list-inline><li>'18'</li><li>'17'</li><li>'16'</li><li>'15'</li><li>'14'</li><li>'13'</li><li>'12'</li><li>'11'</li><li>'10'</li><li>'9'</li><li>'8'</li><li>'7'</li><li>'6'</li><li>'5'</li><li>'4'</li><li>'3'</li><li>'2'</li><li>'1'</li><li>'0'</li></ol>\n",
       "</details>"
      ],
      "text/latex": [
       "\\begin{enumerate*}\n",
       "\\item 1\n",
       "\\item 0\n",
       "\\item 6\n",
       "\\item 4\n",
       "\\item 12\n",
       "\\item 7\n",
       "\\item 13\n",
       "\\item 9\n",
       "\\item 2\n",
       "\\item 5\n",
       "\\item 3\n",
       "\\item 18\n",
       "\\item 10\n",
       "\\item 11\n",
       "\\item 17\n",
       "\\item 8\n",
       "\\item 16\n",
       "\\item 15\n",
       "\\item 14\n",
       "\\end{enumerate*}\n",
       "\n",
       "\\emph{Levels}: \\begin{enumerate*}\n",
       "\\item '18'\n",
       "\\item '17'\n",
       "\\item '16'\n",
       "\\item '15'\n",
       "\\item '14'\n",
       "\\item '13'\n",
       "\\item '12'\n",
       "\\item '11'\n",
       "\\item '10'\n",
       "\\item '9'\n",
       "\\item '8'\n",
       "\\item '7'\n",
       "\\item '6'\n",
       "\\item '5'\n",
       "\\item '4'\n",
       "\\item '3'\n",
       "\\item '2'\n",
       "\\item '1'\n",
       "\\item '0'\n",
       "\\end{enumerate*}\n"
      ],
      "text/markdown": [
       "1. 1\n",
       "2. 0\n",
       "3. 6\n",
       "4. 4\n",
       "5. 12\n",
       "6. 7\n",
       "7. 13\n",
       "8. 9\n",
       "9. 2\n",
       "10. 5\n",
       "11. 3\n",
       "12. 18\n",
       "13. 10\n",
       "14. 11\n",
       "15. 17\n",
       "16. 8\n",
       "17. 16\n",
       "18. 15\n",
       "19. 14\n",
       "\n",
       "\n",
       "\n",
       "**Levels**: 1. '18'\n",
       "2. '17'\n",
       "3. '16'\n",
       "4. '15'\n",
       "5. '14'\n",
       "6. '13'\n",
       "7. '12'\n",
       "8. '11'\n",
       "9. '10'\n",
       "10. '9'\n",
       "11. '8'\n",
       "12. '7'\n",
       "13. '6'\n",
       "14. '5'\n",
       "15. '4'\n",
       "16. '3'\n",
       "17. '2'\n",
       "18. '1'\n",
       "19. '0'\n",
       "\n",
       "\n"
      ],
      "text/plain": [
       " [1] 1  0  6  4  12 7  13 9  2  5  3  18 10 11 17 8  16 15 14\n",
       "Levels: 18 17 16 15 14 13 12 11 10 9 8 7 6 5 4 3 2 1 0"
      ]
     },
     "metadata": {},
     "output_type": "display_data"
    }
   ],
   "source": [
    "unique(Idents(spleen))"
   ]
  },
  {
   "cell_type": "code",
   "execution_count": 11,
   "id": "9ac284fb-4051-4cab-9528-97c3a846c5e2",
   "metadata": {
    "execution": {
     "iopub.execute_input": "2025-01-10T06:27:22.344270Z",
     "iopub.status.busy": "2025-01-10T06:27:22.342689Z",
     "iopub.status.idle": "2025-01-10T06:27:22.361068Z",
     "shell.execute_reply": "2025-01-10T06:27:22.359277Z"
    },
    "tags": [],
    "vscode": {
     "languageId": "r"
    }
   },
   "outputs": [
    {
     "data": {
      "text/plain": [
       "                         \n",
       "                            GF  SPF\n",
       "  Macrophage                61   51\n",
       "  cDC                       22  102\n",
       "  Endothelial               66  149\n",
       "  Neutrophil(Il1b high)      0  224\n",
       "  HSPC                      32  240\n",
       "  pDC                      173  154\n",
       "  Erythrocyte                9  397\n",
       "  Pre-B/Pre-B cycling       99  369\n",
       "  Neutrophil(S100a8 high)   10  524\n",
       "  Gamma delta T cell       162  417\n",
       "  Myeloid                  102  612\n",
       "  Plasma                   158  556\n",
       "  Erythrocyte cycling       19 1375\n",
       "  NK                       819  577\n",
       "  CD8+ T                  1218  312\n",
       "  CD4+ T                   823 1214\n",
       "  B cell (Ighd high)      2939 7822\n",
       "  B cell (Cr2 high)       2101 2490\n",
       "  Sell+ CD4 T             3834 1340"
      ]
     },
     "metadata": {},
     "output_type": "display_data"
    }
   ],
   "source": [
    "table(spleen@meta.data$celltypes,spleen@meta.data$mice)"
   ]
  },
  {
   "cell_type": "code",
   "execution_count": 13,
   "id": "182c1435-9fcc-4afa-bd99-c4c34f84c427",
   "metadata": {
    "execution": {
     "iopub.execute_input": "2025-01-10T06:30:35.623427Z",
     "iopub.status.busy": "2025-01-10T06:30:35.619892Z",
     "iopub.status.idle": "2025-01-10T06:30:38.201606Z",
     "shell.execute_reply": "2025-01-10T06:30:38.199997Z"
    },
    "tags": [],
    "vscode": {
     "languageId": "r"
    }
   },
   "outputs": [
    {
     "name": "stderr",
     "output_type": "stream",
     "text": [
      "The default behaviour of split.by has changed.\n",
      "Separate violin plots are now plotted side-by-side.\n",
      "To restore the old behaviour of a single split violin,\n",
      "set split.plot = TRUE.\n",
      "      \n",
      "This message will be shown once per session.\n",
      "\n"
     ]
    }
   ],
   "source": [
    "genelist <- c(\"Cr2\",\"Ighd\")\n",
    "sp_sub <- subset(spleen,idents = c(0,1))\n",
    "da <- VlnPlot(object = sp_sub, features = genelist, split.by = 'mice',raster=FALSE,\n",
    "       stack = TRUE)$data"
   ]
  },
  {
   "cell_type": "code",
   "execution_count": null,
   "id": "7a3d1021-426a-4c7b-b6e6-f62b4ba714c2",
   "metadata": {
    "execution": {
     "iopub.execute_input": "2025-01-10T06:31:12.766566Z",
     "iopub.status.busy": "2025-01-10T06:31:12.765052Z",
     "iopub.status.idle": "2025-01-10T06:31:13.156941Z",
     "shell.execute_reply": "2025-01-10T06:31:12.833644Z"
    },
    "tags": [],
    "vscode": {
     "languageId": "r"
    }
   },
   "outputs": [],
   "source": [
    "options(repr.plot.width = 10,repr.plot.height= 8)\n",
    "mycolor <- c(\"#F0E442\",\"purple\")\n",
    "p <- SplitViolinPlot(data = da,color = mycolor)\n",
    "p"
   ]
  },
  {
   "cell_type": "markdown",
   "id": "04c592bb-4ae4-48dc-859d-028eed324b10",
   "metadata": {
    "tags": []
   },
   "source": [
    "Figure 2F"
   ]
  },
  {
   "cell_type": "markdown",
   "id": "9085ad17-80e5-41d1-9116-92f1878fb7b0",
   "metadata": {},
   "source": [
    "Figure 2G "
   ]
  },
  {
   "cell_type": "code",
   "execution_count": null,
   "id": "0353bfdb-368e-4495-84a9-dcfc9b1e8093",
   "metadata": {
    "vscode": {
     "languageId": "r"
    }
   },
   "outputs": [],
   "source": [
    "DoEechPiePlot <- function(Counts,Genelist){## Experssion ##\n",
    " # Counts <- Counts[,Genelist]\n",
    "  #print(head(Counts))\n",
    "  data <- as.data.frame(Matrix::colSums(x = Counts > 0)) # whole express gene Connts > 0 # \n",
    "  colnames(data) <- \"ExpStat\"\n",
    "  data$whole <- dim(Counts)[1] #  all spot ##\n",
    "  data$gene <- rownames(data)\n",
    "  data <- data %>% mutate(UnExpStat = whole - ExpStat)\n",
    "  data$whole <- NULL\n",
    "  plotlist <- list()\n",
    "  for(i in 1:length(Genelist)){\n",
    "    print(i)\n",
    "    marker <- Genelist[i]\n",
    "    print(marker)\n",
    "    data.marker <- data %>% filter(gene == marker)\n",
    "    print(data.marker)\n",
    "    plot.marker <- melt(data.marker,id.vars = \"gene\")\n",
    "    print(plot.marker)\n",
    "    plot.marker$variable <- factor(plot.marker$variable,levels = c(\"UnExpStat\",\"ExpStat\"))\n",
    "    plotlist[[marker]] <-  ggplot(data = plot.marker, mapping = aes(x = gene, y = value, fill = variable)) + \n",
    "                                geom_bar(stat = 'identity',  position = 'stack')+ coord_polar(theta = 'y') +\n",
    "                                scale_fill_manual(values=c(\"#808080\",\"#bd0000\")) + \n",
    "                                labs(x = '', y = '', title = marker) + theme_void() + theme(\n",
    "                                      plot.title = element_text(size = 25,family = \"Times\",face = \"bold\",hjust = 0.5),\n",
    "                                legend.position = \"none\") \n",
    "  }\n",
    "  return(plotlist)\n",
    "}\n",
    "DoUnionPiePlot <- function(Counts,Genelist,celltype){ \n",
    "  Counts <- Counts[,Genelist] ### question ###\n",
    "  data <- as.data.frame(Counts > 0)\n",
    "  data$Spot <- rownames(data)\n",
    "  print(head(data))\n",
    "  union.gene <- c()\n",
    "  for(j in Genelist){\n",
    "    print(j)\n",
    "    exp.gene <- data[data[,j],\"Spot\"] # stat express Gene # \n",
    "    print(head(exp.gene))\n",
    "    union.gene <- union(union.gene,exp.gene) # union Gene # \n",
    "  }\n",
    "  print(length(union.gene))\n",
    "  data.score  <- data.frame(ExpStat = length(union.gene),\n",
    "                            UnExpStat = dim(Counts)[1] - length(union.gene),\n",
    "                            celltype = celltype)\n",
    "  print(data.score)\n",
    "  plot.score <- melt(data.score,id.vars = \"celltype\")\n",
    "  plot.score $variable <- factor(plot.score$variable,levels = c(\"UnExpStat\",\"ExpStat\"))\n",
    "  p <- ggplot(data = plot.score, mapping = aes(x = celltype, y = value, fill = variable)) + \n",
    "    geom_bar(stat = 'identity',  position = 'stack')+ coord_polar(theta = 'y') +\n",
    "    scale_fill_manual(values=c(\"#808080\",\"#bd0000\")) + \n",
    "    labs(x = '', y = '', title = celltype) + theme_void() + theme(\n",
    "      plot.title = element_text(size = 16,family = \"Times\",face = \"bold\",hjust = 0.5),\n",
    "      legend.position = \"none\") \n",
    "  return(p)\n",
    "}\n",
    "\n",
    "CellTypeMarkerPiePlot <- function(Counts,Celltypes,Markerlist,mice,sample,output,method){\n",
    "  if(length(Celltypes) != length(Markerlist)){\n",
    "    stop(\"Please check your number of vector of celltypes or marker ! \")\n",
    "  }\n",
    "  for(i in 1:length(Celltypes)){\n",
    "    print(i)\n",
    "    ct <- Celltypes[i]\n",
    "    print(ct)\n",
    "    mk <- Markerlist[[i]]\n",
    "    print(mk)\n",
    "    if(method == \"experssion\"){\n",
    "      # each celltype Pieplot #\n",
    "      pl <- DoEechPiePlot(Counts = Counts,Genelist = mk)\n",
    "      p <- wrap_plots(pl,ncol = 1)\n",
    "    } else if (method == \"score\"){\n",
    "      p <- DoUnionPiePlot(Counts = Counts,Genelist = mk, celltype = ct)\n",
    "      mk <- 1\n",
    "    } else {\n",
    "      stop(\"Please check your method !\")\n",
    "    } \n",
    "    # save #\n",
    "    outfile <- paste(output,\"/\",sample,\"_\",ct,\"_\",method,\".pdf\",sep = \"\")\n",
    "    print(outfile)\n",
    "    pdf(outfile,w = 2,h = 2*length(mk))\n",
    "    print(p)\n",
    "    dev.off()\n",
    "    print(\"--- end --- \")\n",
    "  }\n",
    "}"
   ]
  },
  {
   "cell_type": "code",
   "execution_count": null,
   "id": "bcaf56da-0a0c-4f27-a319-8db87a21dd69",
   "metadata": {
    "vscode": {
     "languageId": "r"
    }
   },
   "outputs": [],
   "source": [
    "GF <- readRDS(\"/data/work/Pieplot/final_GF.rds\")\n",
    "GF_counts <- t(as.matrix(GF$Spatial@counts))\n",
    "sample <- 'GF_Spleen'\n",
    "Celltypes <- c(\"Mature_B-C3\")\n",
    "output <- \"/data/work/Pieplot\"\n",
    "Markerlist <- list(\"Mature_B-C3\" = c(\"Ighd\"))\n",
    "CellTypeMarkerPiePlot(Counts = GF_counts,Celltypes = Celltypes, Markerlist = Markerlist,sample = sample,output = output,\n",
    "                      method =\"experssion\")\n",
    "date() "
   ]
  },
  {
   "cell_type": "markdown",
   "id": "59864ca8-21d0-4e51-8e97-1b0e4aa55b09",
   "metadata": {},
   "source": [
    "Figure 2H"
   ]
  },
  {
   "cell_type": "code",
   "execution_count": null,
   "id": "07418086-dcf6-4fa6-8104-28eefb71916b",
   "metadata": {
    "vscode": {
     "languageId": "r"
    }
   },
   "outputs": [],
   "source": [
    "TidyData <- function(obj,idx,idents=NULL){\n",
    "  if(!is.null(idents)){\n",
    "    pritn(\"Idents is not NULL!\")\n",
    "    Idents(obj) <- idents  \n",
    "  }\n",
    "  sub <- subset(obj,idents = idx)\n",
    "  sub@meta.data$celltypes <- as.vector(sub@meta.data$celltypes )\n",
    "  stat <- table(sub@meta.data$tissue,sub@meta.data$celltypes)\n",
    "  print(stat)\n",
    "  print(str(as.matrix(stat)))\n",
    "  data <- as.data.frame(proportions(as.matrix(stat),margin = 1) * 100)\n",
    "  print(data)\n",
    "  colnames(data) <- c(\"tissue\",\"celltypes\",\"percentage\")\n",
    "  return(data)\n",
    "}\n",
    "CellRadioBarplot <- function(data,mycolor,title = NULL){ \n",
    "  theme_self <- theme(\n",
    "    axis.text.y = element_text(size = 25,face = \"bold\",margin  = margin(0,5,0,0)),\n",
    "    axis.text.x = element_text(size = 25,face = \"bold\",margin  = margin(0,0,0,0),angle = 45,hjust = 1,vjust =0.9),\n",
    "    axis.title.x= element_text(size = 30,face = \"bold\",margin  = margin(0,0,0,0)),\n",
    "    axis.title.y= element_text(size = 30,face = \"bold\",margin  = margin(0,0,0,0)),\n",
    "    axis.line = element_line(linetype = 1,color= \"black\",size = 1),\n",
    "    legend.text = element_text(size = 22,face = \"bold\"),\n",
    "    legend.title = element_text(size = 28,face = \"bold\"),\n",
    "    panel.grid = element_blank(),\n",
    "    plot.margin =  unit(c(1,1,1,1),\"cm\"), \n",
    "    axis.ticks  = element_line(color = \"black\",size = 1,lineend = 2),\n",
    "    plot.title = element_text(hjust = 0.5,size = 30,face = \"bold\"))\n",
    "  p <- ggplot(data,aes(x = tissue,y = percentage,fill = celltypes)) + \n",
    "    geom_bar(stat=\"identity\",width = 0.7) + theme_bw() + labs(x = \" \" , y = \"Percentage (%)\") +  \n",
    "    scale_fill_manual(values=mycolor) + theme_self + \n",
    "    guides(fill=guide_legend(title = paste(title,\"  \",sep = \"\"),position = \"top\",nrow = 2))\n",
    "  return(p)\n",
    "}"
   ]
  }
 ],
 "metadata": {
  "kernelspec": {
   "display_name": "R",
   "language": "R",
   "name": "ir"
  },
  "language_info": {
   "codemirror_mode": "r",
   "file_extension": ".r",
   "mimetype": "text/x-r-source",
   "name": "R",
   "pygments_lexer": "r",
   "version": "4.2.2"
  },
  "toc-showmarkdowntxt": true
 },
 "nbformat": 4,
 "nbformat_minor": 5
}
