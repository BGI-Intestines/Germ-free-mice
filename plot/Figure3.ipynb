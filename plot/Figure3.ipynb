{
 "cells": [
  {
   "cell_type": "code",
   "execution_count": null,
   "id": "fa64610b-76de-4469-aa34-617b4d37d0a6",
   "metadata": {
    "vscode": {
     "languageId": "r"
    }
   },
   "outputs": [],
   "source": [
    "suppressMessages(library(tidyr))\n",
    "suppressMessages(library(dplyr))\n",
    "suppressMessages(library(pheatmap))\n",
    "suppressMessages(library(ggplot2))\n",
    "suppressMessages(library(patchwork))\n",
    "suppressMessages(library(ggtree))\n",
    "suppressMessages(library(hash))\n",
    "suppressMessages(library(RColorBrewer))\n",
    "suppressMessages(library(reshape2))\n",
    "suppressMessages(library(ggalluvial))\n",
    "suppressMessages(library(grid))\n",
    "suppressMessages(library(ggrepel))\n",
    "suppressMessages(library(ggdark))\n",
    "suppressMessages(library(tidyverse))\n",
    "suppressMessages(library(ggrastr))\n",
    "suppressMessages(library(ggpubr))\n",
    "suppressMessages(library(readxl))\n",
    "suppressMessages(library(ggsci))\n",
    "suppressMessages(library(ComplexHeatmap))\n",
    "suppressMessages(library(circlize))\n",
    "suppressMessages(library(aplot))\n",
    "suppressMessages(library(Seurat))\n",
    "suppressMessages(library(gridExtra))"
   ]
  },
  {
   "cell_type": "markdown",
   "id": "d9623d49-e835-4524-9792-f592b7a59310",
   "metadata": {},
   "source": [
    "Figure 3K"
   ]
  },
  {
   "cell_type": "code",
   "execution_count": null,
   "id": "428d93d0-be4c-43c6-a64c-6aeeccf8fb3b",
   "metadata": {
    "vscode": {
     "languageId": "r"
    }
   },
   "outputs": [],
   "source": [
    "library(ggrepel)\n",
    "CD8aa1$celltypes <- \"CD8aa1\"\n",
    "\n",
    "DegVolcano <- function(data,title){\n",
    "  theme_self <- theme(plot.title = element_text(size =25,hjust = 0.5,face = \"bold\"),\n",
    "                      axis.text.y = element_text(size = 15,face = \"bold\",margin = margin(0,5,0,0)),\n",
    "                      axis.text.x = element_text(size = 15,face = \"bold\",margin = margin(5,0,0,0)),\n",
    "                      axis.title.x = element_text(size = 20,face = \"bold\",margin = margin(10,0,0,0)),\n",
    "                      axis.title.y = element_text(size = 20,face = \"bold\",margin = margin(0,10,0,0)))\n",
    "  p <- ggplot(data,aes(x = avg_log2FC,y = logP,color  = group)) + geom_point(size = 0.2) + \n",
    "    geom_vline(xintercept = -0.5,linetype = \"dashed\") + \n",
    "    geom_vline(xintercept = 0.5,linetype = \"dashed\") + theme_bw() + \n",
    "    scale_color_manual(values = c('blue','grey','red')) +\n",
    "    geom_text_repel(aes(label = Label),size = 2.5) + labs(x = 'avg_log2FC',y = '-log10(adjPvalue)') + \n",
    "   labs(title = paste(title,\" : CD8aa1\",sep = \"\")) + theme_self\n",
    "   # facet_grid(celltypes ~ time)  +\n",
    "  return(p)\n",
    "}"
   ]
  }
 ],
 "metadata": {
  "kernelspec": {
   "display_name": "R",
   "language": "R",
   "name": "ir"
  },
  "language_info": {
   "codemirror_mode": "r",
   "file_extension": ".r",
   "mimetype": "text/x-r-source",
   "name": "R",
   "pygments_lexer": "r",
   "version": "4.2.2"
  }
 },
 "nbformat": 4,
 "nbformat_minor": 5
}
