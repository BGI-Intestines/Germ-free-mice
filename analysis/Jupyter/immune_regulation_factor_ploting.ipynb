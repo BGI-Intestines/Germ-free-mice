{
 "cells": [
  {
   "cell_type": "code",
   "execution_count": null,
   "id": "37de48b4-f9a5-4e20-af7f-319a1cd32e6b",
   "metadata": {},
   "outputs": [],
   "source": [
    "df <- read.xlsx(\"gene set.xlsx\")\n",
    "\n",
    "mat <- df\n",
    "mat <- mat[,c(2,4:62)]\n",
    "rownames(mat) <- paste0(mat[,1], 1:dim(mat)[1])\n",
    "mat <- as.matrix(mat[,-1])\n",
    "mat[is.na(mat)] <- 0\n",
    "mat1 <- apply(mat, 2, as.numeric)\n",
    "rownames(mat1) <- rownames(mat)\n",
    "\n",
    "# note how we set the width of this empty annotation\n",
    "ha = rowAnnotation(foo = anno_empty(border = FALSE, width=max_text_width(unique(df$pathway)) + unit(10, \"mm\")))\n",
    "ha2 = rowAnnotation(foo = anno_mark(at = which(df$Flag==\"Yes\"), labels = df[which(df$Flag==\"Yes\"), \"Gene\"], labels_gp = gpar(fontface=3, fontsize = 12)))\n",
    "\n",
    "options(repr.plot.width = 19, repr.plot.height = 20)\n",
    "p <- Heatmap(mat1,cluster_rows = TRUE, cluster_columns = FALSE, show_row_dend=FALSE, border=TRUE,\n",
    "   row_names_side = \"left\", column_names_gp = gpar(fontsize = 12), column_names_rot = 45,\n",
    "             row_split =  df$pathway, row_gap = unit(rep(3,5), \"mm\"), row_title = NULL, show_row_names = FALSE, \n",
    "   right_annotation = ha2, left_annotation = ha,\n",
    "            heatmap_legend_param = list(title = \"Fold Change\", title_position = \"leftcenter-rot\",title_gp = gpar( fontsize = 12),labels_gp = gpar(fontsize = 12),\n",
    "                                  legend_height = unit(2.5, \"cm\"),at = c(-2, 0, 2))\n",
    "            )\n",
    "pdf(\"heatmap.pdf\", w=19, h=20)\n",
    "p\n",
    "for(i in 1:6) {\n",
    "    decorate_annotation(\"foo\", slice = i, {\n",
    "        grid.text(paste(unique(df$pathway)[[i]], collapse = \"\\n\"), x=0.94, just = \"right\", hjust=1)\n",
    "        grid.rect(x = 0.95, width = unit(5, \"mm\"), gp = gpar(color = NULL, fill = i), just = \"left\")\n",
    "    })\n",
    "}\n",
    "dev.off()"
   ]
  }
 ],
 "metadata": {
  "kernelspec": {
   "display_name": "R",
   "language": "R",
   "name": "ir"
  },
  "language_info": {
   "codemirror_mode": "r",
   "file_extension": ".r",
   "mimetype": "text/x-r-source",
   "name": "R",
   "pygments_lexer": "r",
   "version": "4.2.2"
  }
 },
 "nbformat": 4,
 "nbformat_minor": 5
}
